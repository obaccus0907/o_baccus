{
 "cells": [
  {
   "cell_type": "code",
   "execution_count": 65,
   "metadata": {},
   "outputs": [],
   "source": [
    "import pandas as pd\n",
    "import matplotlib.pyplot as plt"
   ]
  },
  {
   "cell_type": "code",
   "execution_count": 66,
   "metadata": {},
   "outputs": [],
   "source": [
    "col_names = ['age', 'sex', 'cp', 'rbp', 'scl', 'fbs', 'rer', 'mhra', 'eia', 'std', 'stss', 'fcv', 'tls', 'dhd']"
   ]
  },
  {
   "cell_type": "code",
   "execution_count": 67,
   "metadata": {},
   "outputs": [],
   "source": [
    "data = pd.read_csv('processed.cleveland.data.csv', header=None, names=col_names)"
   ]
  },
  {
   "cell_type": "code",
   "execution_count": 68,
   "metadata": {},
   "outputs": [
    {
     "name": "stdout",
     "output_type": "stream",
     "text": [
      "      age  sex   cp    rbp    scl  fbs  rer   mhra  eia  std  stss  fcv  tls  \\\n",
      "0    63.0  1.0  1.0  145.0  233.0  1.0  2.0  150.0  0.0  2.3   3.0  0.0  6.0   \n",
      "1    67.0  1.0  4.0  160.0  286.0  0.0  2.0  108.0  1.0  1.5   2.0  3.0  3.0   \n",
      "2    67.0  1.0  4.0  120.0  229.0  0.0  2.0  129.0  1.0  2.6   2.0  2.0  7.0   \n",
      "3    37.0  1.0  3.0  130.0  250.0  0.0  0.0  187.0  0.0  3.5   3.0  0.0  3.0   \n",
      "4    41.0  0.0  2.0  130.0  204.0  0.0  2.0  172.0  0.0  1.4   1.0  0.0  3.0   \n",
      "5    56.0  1.0  2.0  120.0  236.0  0.0  0.0  178.0  0.0  0.8   1.0  0.0  3.0   \n",
      "6    62.0  0.0  4.0  140.0  268.0  0.0  2.0  160.0  0.0  3.6   3.0  2.0  3.0   \n",
      "7    57.0  0.0  4.0  120.0  354.0  0.0  0.0  163.0  1.0  0.6   1.0  0.0  3.0   \n",
      "8    63.0  1.0  4.0  130.0  254.0  0.0  2.0  147.0  0.0  1.4   2.0  1.0  7.0   \n",
      "9    53.0  1.0  4.0  140.0  203.0  1.0  2.0  155.0  1.0  3.1   3.0  0.0  7.0   \n",
      "10   57.0  1.0  4.0  140.0  192.0  0.0  0.0  148.0  0.0  0.4   2.0  0.0  6.0   \n",
      "11   56.0  0.0  2.0  140.0  294.0  0.0  2.0  153.0  0.0  1.3   2.0  0.0  3.0   \n",
      "12   56.0  1.0  3.0  130.0  256.0  1.0  2.0  142.0  1.0  0.6   2.0  1.0  6.0   \n",
      "13   44.0  1.0  2.0  120.0  263.0  0.0  0.0  173.0  0.0  0.0   1.0  0.0  7.0   \n",
      "14   52.0  1.0  3.0  172.0  199.0  1.0  0.0  162.0  0.0  0.5   1.0  0.0  7.0   \n",
      "15   57.0  1.0  3.0  150.0  168.0  0.0  0.0  174.0  0.0  1.6   1.0  0.0  3.0   \n",
      "16   48.0  1.0  2.0  110.0  229.0  0.0  0.0  168.0  0.0  1.0   3.0  0.0  7.0   \n",
      "17   54.0  1.0  4.0  140.0  239.0  0.0  0.0  160.0  0.0  1.2   1.0  0.0  3.0   \n",
      "18   48.0  0.0  3.0  130.0  275.0  0.0  0.0  139.0  0.0  0.2   1.0  0.0  3.0   \n",
      "19   49.0  1.0  2.0  130.0  266.0  0.0  0.0  171.0  0.0  0.6   1.0  0.0  3.0   \n",
      "20   64.0  1.0  1.0  110.0  211.0  0.0  2.0  144.0  1.0  1.8   2.0  0.0  3.0   \n",
      "21   58.0  0.0  1.0  150.0  283.0  1.0  2.0  162.0  0.0  1.0   1.0  0.0  3.0   \n",
      "22   58.0  1.0  2.0  120.0  284.0  0.0  2.0  160.0  0.0  1.8   2.0  0.0  3.0   \n",
      "23   58.0  1.0  3.0  132.0  224.0  0.0  2.0  173.0  0.0  3.2   1.0  2.0  7.0   \n",
      "24   60.0  1.0  4.0  130.0  206.0  0.0  2.0  132.0  1.0  2.4   2.0  2.0  7.0   \n",
      "25   50.0  0.0  3.0  120.0  219.0  0.0  0.0  158.0  0.0  1.6   2.0  0.0  3.0   \n",
      "26   58.0  0.0  3.0  120.0  340.0  0.0  0.0  172.0  0.0  0.0   1.0  0.0  3.0   \n",
      "27   66.0  0.0  1.0  150.0  226.0  0.0  0.0  114.0  0.0  2.6   3.0  0.0  3.0   \n",
      "28   43.0  1.0  4.0  150.0  247.0  0.0  0.0  171.0  0.0  1.5   1.0  0.0  3.0   \n",
      "29   40.0  1.0  4.0  110.0  167.0  0.0  2.0  114.0  1.0  2.0   2.0  0.0  7.0   \n",
      "..    ...  ...  ...    ...    ...  ...  ...    ...  ...  ...   ...  ...  ...   \n",
      "273  71.0  0.0  4.0  112.0  149.0  0.0  0.0  125.0  0.0  1.6   2.0  0.0  3.0   \n",
      "274  59.0  1.0  1.0  134.0  204.0  0.0  0.0  162.0  0.0  0.8   1.0  2.0  3.0   \n",
      "275  64.0  1.0  1.0  170.0  227.0  0.0  2.0  155.0  0.0  0.6   2.0  0.0  7.0   \n",
      "276  66.0  0.0  3.0  146.0  278.0  0.0  2.0  152.0  0.0  0.0   2.0  1.0  3.0   \n",
      "277  39.0  0.0  3.0  138.0  220.0  0.0  0.0  152.0  0.0  0.0   2.0  0.0  3.0   \n",
      "278  57.0  1.0  2.0  154.0  232.0  0.0  2.0  164.0  0.0  0.0   1.0  1.0  3.0   \n",
      "279  58.0  0.0  4.0  130.0  197.0  0.0  0.0  131.0  0.0  0.6   2.0  0.0  3.0   \n",
      "280  57.0  1.0  4.0  110.0  335.0  0.0  0.0  143.0  1.0  3.0   2.0  1.0  7.0   \n",
      "281  47.0  1.0  3.0  130.0  253.0  0.0  0.0  179.0  0.0  0.0   1.0  0.0  3.0   \n",
      "282  55.0  0.0  4.0  128.0  205.0  0.0  1.0  130.0  1.0  2.0   2.0  1.0  7.0   \n",
      "283  35.0  1.0  2.0  122.0  192.0  0.0  0.0  174.0  0.0  0.0   1.0  0.0  3.0   \n",
      "284  61.0  1.0  4.0  148.0  203.0  0.0  0.0  161.0  0.0  0.0   1.0  1.0  7.0   \n",
      "285  58.0  1.0  4.0  114.0  318.0  0.0  1.0  140.0  0.0  4.4   3.0  3.0  6.0   \n",
      "286  58.0  0.0  4.0  170.0  225.0  1.0  2.0  146.0  1.0  2.8   2.0  2.0  6.0   \n",
      "287  58.0  1.0  2.0  125.0  220.0  0.0  0.0  144.0  0.0  0.4   2.0    ?  7.0   \n",
      "288  56.0  1.0  2.0  130.0  221.0  0.0  2.0  163.0  0.0  0.0   1.0  0.0  7.0   \n",
      "289  56.0  1.0  2.0  120.0  240.0  0.0  0.0  169.0  0.0  0.0   3.0  0.0  3.0   \n",
      "290  67.0  1.0  3.0  152.0  212.0  0.0  2.0  150.0  0.0  0.8   2.0  0.0  7.0   \n",
      "291  55.0  0.0  2.0  132.0  342.0  0.0  0.0  166.0  0.0  1.2   1.0  0.0  3.0   \n",
      "292  44.0  1.0  4.0  120.0  169.0  0.0  0.0  144.0  1.0  2.8   3.0  0.0  6.0   \n",
      "293  63.0  1.0  4.0  140.0  187.0  0.0  2.0  144.0  1.0  4.0   1.0  2.0  7.0   \n",
      "294  63.0  0.0  4.0  124.0  197.0  0.0  0.0  136.0  1.0  0.0   2.0  0.0  3.0   \n",
      "295  41.0  1.0  2.0  120.0  157.0  0.0  0.0  182.0  0.0  0.0   1.0  0.0  3.0   \n",
      "296  59.0  1.0  4.0  164.0  176.0  1.0  2.0   90.0  0.0  1.0   2.0  2.0  6.0   \n",
      "297  57.0  0.0  4.0  140.0  241.0  0.0  0.0  123.0  1.0  0.2   2.0  0.0  7.0   \n",
      "298  45.0  1.0  1.0  110.0  264.0  0.0  0.0  132.0  0.0  1.2   2.0  0.0  7.0   \n",
      "299  68.0  1.0  4.0  144.0  193.0  1.0  0.0  141.0  0.0  3.4   2.0  2.0  7.0   \n",
      "300  57.0  1.0  4.0  130.0  131.0  0.0  0.0  115.0  1.0  1.2   2.0  1.0  7.0   \n",
      "301  57.0  0.0  2.0  130.0  236.0  0.0  2.0  174.0  0.0  0.0   2.0  1.0  3.0   \n",
      "302  38.0  1.0  3.0  138.0  175.0  0.0  0.0  173.0  0.0  0.0   1.0    ?  3.0   \n",
      "\n",
      "     dhd  \n",
      "0      0  \n",
      "1      2  \n",
      "2      1  \n",
      "3      0  \n",
      "4      0  \n",
      "5      0  \n",
      "6      3  \n",
      "7      0  \n",
      "8      2  \n",
      "9      1  \n",
      "10     0  \n",
      "11     0  \n",
      "12     2  \n",
      "13     0  \n",
      "14     0  \n",
      "15     0  \n",
      "16     1  \n",
      "17     0  \n",
      "18     0  \n",
      "19     0  \n",
      "20     0  \n",
      "21     0  \n",
      "22     1  \n",
      "23     3  \n",
      "24     4  \n",
      "25     0  \n",
      "26     0  \n",
      "27     0  \n",
      "28     0  \n",
      "29     3  \n",
      "..   ...  \n",
      "273    0  \n",
      "274    1  \n",
      "275    0  \n",
      "276    0  \n",
      "277    0  \n",
      "278    1  \n",
      "279    0  \n",
      "280    2  \n",
      "281    0  \n",
      "282    3  \n",
      "283    0  \n",
      "284    2  \n",
      "285    4  \n",
      "286    2  \n",
      "287    0  \n",
      "288    0  \n",
      "289    0  \n",
      "290    1  \n",
      "291    0  \n",
      "292    2  \n",
      "293    2  \n",
      "294    1  \n",
      "295    0  \n",
      "296    3  \n",
      "297    1  \n",
      "298    1  \n",
      "299    2  \n",
      "300    3  \n",
      "301    1  \n",
      "302    0  \n",
      "\n",
      "[303 rows x 14 columns]\n"
     ]
    }
   ],
   "source": [
    "print (data)"
   ]
  },
  {
   "cell_type": "code",
   "execution_count": 69,
   "metadata": {},
   "outputs": [
    {
     "data": {
      "text/html": [
       "<div>\n",
       "<style scoped>\n",
       "    .dataframe tbody tr th:only-of-type {\n",
       "        vertical-align: middle;\n",
       "    }\n",
       "\n",
       "    .dataframe tbody tr th {\n",
       "        vertical-align: top;\n",
       "    }\n",
       "\n",
       "    .dataframe thead th {\n",
       "        text-align: right;\n",
       "    }\n",
       "</style>\n",
       "<table border=\"1\" class=\"dataframe\">\n",
       "  <thead>\n",
       "    <tr style=\"text-align: right;\">\n",
       "      <th></th>\n",
       "      <th>age</th>\n",
       "      <th>sex</th>\n",
       "      <th>cp</th>\n",
       "      <th>rbp</th>\n",
       "      <th>scl</th>\n",
       "      <th>fbs</th>\n",
       "      <th>rer</th>\n",
       "      <th>mhra</th>\n",
       "      <th>eia</th>\n",
       "      <th>std</th>\n",
       "      <th>stss</th>\n",
       "      <th>dhd</th>\n",
       "    </tr>\n",
       "  </thead>\n",
       "  <tbody>\n",
       "    <tr>\n",
       "      <th>count</th>\n",
       "      <td>303.000000</td>\n",
       "      <td>303.000000</td>\n",
       "      <td>303.000000</td>\n",
       "      <td>303.000000</td>\n",
       "      <td>303.000000</td>\n",
       "      <td>303.000000</td>\n",
       "      <td>303.000000</td>\n",
       "      <td>303.000000</td>\n",
       "      <td>303.000000</td>\n",
       "      <td>303.000000</td>\n",
       "      <td>303.000000</td>\n",
       "      <td>303.000000</td>\n",
       "    </tr>\n",
       "    <tr>\n",
       "      <th>mean</th>\n",
       "      <td>54.438944</td>\n",
       "      <td>0.679868</td>\n",
       "      <td>3.158416</td>\n",
       "      <td>131.689769</td>\n",
       "      <td>246.693069</td>\n",
       "      <td>0.148515</td>\n",
       "      <td>0.990099</td>\n",
       "      <td>149.607261</td>\n",
       "      <td>0.326733</td>\n",
       "      <td>1.039604</td>\n",
       "      <td>1.600660</td>\n",
       "      <td>0.937294</td>\n",
       "    </tr>\n",
       "    <tr>\n",
       "      <th>std</th>\n",
       "      <td>9.038662</td>\n",
       "      <td>0.467299</td>\n",
       "      <td>0.960126</td>\n",
       "      <td>17.599748</td>\n",
       "      <td>51.776918</td>\n",
       "      <td>0.356198</td>\n",
       "      <td>0.994971</td>\n",
       "      <td>22.875003</td>\n",
       "      <td>0.469794</td>\n",
       "      <td>1.161075</td>\n",
       "      <td>0.616226</td>\n",
       "      <td>1.228536</td>\n",
       "    </tr>\n",
       "    <tr>\n",
       "      <th>min</th>\n",
       "      <td>29.000000</td>\n",
       "      <td>0.000000</td>\n",
       "      <td>1.000000</td>\n",
       "      <td>94.000000</td>\n",
       "      <td>126.000000</td>\n",
       "      <td>0.000000</td>\n",
       "      <td>0.000000</td>\n",
       "      <td>71.000000</td>\n",
       "      <td>0.000000</td>\n",
       "      <td>0.000000</td>\n",
       "      <td>1.000000</td>\n",
       "      <td>0.000000</td>\n",
       "    </tr>\n",
       "    <tr>\n",
       "      <th>25%</th>\n",
       "      <td>48.000000</td>\n",
       "      <td>0.000000</td>\n",
       "      <td>3.000000</td>\n",
       "      <td>120.000000</td>\n",
       "      <td>211.000000</td>\n",
       "      <td>0.000000</td>\n",
       "      <td>0.000000</td>\n",
       "      <td>133.500000</td>\n",
       "      <td>0.000000</td>\n",
       "      <td>0.000000</td>\n",
       "      <td>1.000000</td>\n",
       "      <td>0.000000</td>\n",
       "    </tr>\n",
       "    <tr>\n",
       "      <th>50%</th>\n",
       "      <td>56.000000</td>\n",
       "      <td>1.000000</td>\n",
       "      <td>3.000000</td>\n",
       "      <td>130.000000</td>\n",
       "      <td>241.000000</td>\n",
       "      <td>0.000000</td>\n",
       "      <td>1.000000</td>\n",
       "      <td>153.000000</td>\n",
       "      <td>0.000000</td>\n",
       "      <td>0.800000</td>\n",
       "      <td>2.000000</td>\n",
       "      <td>0.000000</td>\n",
       "    </tr>\n",
       "    <tr>\n",
       "      <th>75%</th>\n",
       "      <td>61.000000</td>\n",
       "      <td>1.000000</td>\n",
       "      <td>4.000000</td>\n",
       "      <td>140.000000</td>\n",
       "      <td>275.000000</td>\n",
       "      <td>0.000000</td>\n",
       "      <td>2.000000</td>\n",
       "      <td>166.000000</td>\n",
       "      <td>1.000000</td>\n",
       "      <td>1.600000</td>\n",
       "      <td>2.000000</td>\n",
       "      <td>2.000000</td>\n",
       "    </tr>\n",
       "    <tr>\n",
       "      <th>max</th>\n",
       "      <td>77.000000</td>\n",
       "      <td>1.000000</td>\n",
       "      <td>4.000000</td>\n",
       "      <td>200.000000</td>\n",
       "      <td>564.000000</td>\n",
       "      <td>1.000000</td>\n",
       "      <td>2.000000</td>\n",
       "      <td>202.000000</td>\n",
       "      <td>1.000000</td>\n",
       "      <td>6.200000</td>\n",
       "      <td>3.000000</td>\n",
       "      <td>4.000000</td>\n",
       "    </tr>\n",
       "  </tbody>\n",
       "</table>\n",
       "</div>"
      ],
      "text/plain": [
       "              age         sex          cp         rbp         scl         fbs  \\\n",
       "count  303.000000  303.000000  303.000000  303.000000  303.000000  303.000000   \n",
       "mean    54.438944    0.679868    3.158416  131.689769  246.693069    0.148515   \n",
       "std      9.038662    0.467299    0.960126   17.599748   51.776918    0.356198   \n",
       "min     29.000000    0.000000    1.000000   94.000000  126.000000    0.000000   \n",
       "25%     48.000000    0.000000    3.000000  120.000000  211.000000    0.000000   \n",
       "50%     56.000000    1.000000    3.000000  130.000000  241.000000    0.000000   \n",
       "75%     61.000000    1.000000    4.000000  140.000000  275.000000    0.000000   \n",
       "max     77.000000    1.000000    4.000000  200.000000  564.000000    1.000000   \n",
       "\n",
       "              rer        mhra         eia         std        stss         dhd  \n",
       "count  303.000000  303.000000  303.000000  303.000000  303.000000  303.000000  \n",
       "mean     0.990099  149.607261    0.326733    1.039604    1.600660    0.937294  \n",
       "std      0.994971   22.875003    0.469794    1.161075    0.616226    1.228536  \n",
       "min      0.000000   71.000000    0.000000    0.000000    1.000000    0.000000  \n",
       "25%      0.000000  133.500000    0.000000    0.000000    1.000000    0.000000  \n",
       "50%      1.000000  153.000000    0.000000    0.800000    2.000000    0.000000  \n",
       "75%      2.000000  166.000000    1.000000    1.600000    2.000000    2.000000  \n",
       "max      2.000000  202.000000    1.000000    6.200000    3.000000    4.000000  "
      ]
     },
     "execution_count": 69,
     "metadata": {},
     "output_type": "execute_result"
    }
   ],
   "source": [
    "data.describe()"
   ]
  },
  {
   "cell_type": "code",
   "execution_count": 70,
   "metadata": {},
   "outputs": [
    {
     "name": "stdout",
     "output_type": "stream",
     "text": [
      "<class 'pandas.core.frame.DataFrame'>\n",
      "RangeIndex: 303 entries, 0 to 302\n",
      "Data columns (total 14 columns):\n",
      "age     303 non-null float64\n",
      "sex     303 non-null float64\n",
      "cp      303 non-null float64\n",
      "rbp     303 non-null float64\n",
      "scl     303 non-null float64\n",
      "fbs     303 non-null float64\n",
      "rer     303 non-null float64\n",
      "mhra    303 non-null float64\n",
      "eia     303 non-null float64\n",
      "std     303 non-null float64\n",
      "stss    303 non-null float64\n",
      "fcv     303 non-null object\n",
      "tls     303 non-null object\n",
      "dhd     303 non-null int64\n",
      "dtypes: float64(11), int64(1), object(2)\n",
      "memory usage: 33.2+ KB\n"
     ]
    }
   ],
   "source": [
    "data.info()"
   ]
  },
  {
   "cell_type": "code",
   "execution_count": 71,
   "metadata": {},
   "outputs": [
    {
     "data": {
      "text/plain": [
       "False"
      ]
     },
     "execution_count": 71,
     "metadata": {},
     "output_type": "execute_result"
    }
   ],
   "source": [
    "data.isnull().values.any()"
   ]
  },
  {
   "cell_type": "code",
   "execution_count": 72,
   "metadata": {},
   "outputs": [],
   "source": [
    "data.replace(to_replace='?', value='', inplace=True)"
   ]
  },
  {
   "cell_type": "code",
   "execution_count": 73,
   "metadata": {},
   "outputs": [
    {
     "name": "stdout",
     "output_type": "stream",
     "text": [
      "<class 'pandas.core.frame.DataFrame'>\n",
      "RangeIndex: 303 entries, 0 to 302\n",
      "Data columns (total 14 columns):\n",
      "age     303 non-null float64\n",
      "sex     303 non-null float64\n",
      "cp      303 non-null float64\n",
      "rbp     303 non-null float64\n",
      "scl     303 non-null float64\n",
      "fbs     303 non-null float64\n",
      "rer     303 non-null float64\n",
      "mhra    303 non-null float64\n",
      "eia     303 non-null float64\n",
      "std     303 non-null float64\n",
      "stss    303 non-null float64\n",
      "fcv     303 non-null object\n",
      "tls     303 non-null object\n",
      "dhd     303 non-null int64\n",
      "dtypes: float64(11), int64(1), object(2)\n",
      "memory usage: 33.2+ KB\n"
     ]
    }
   ],
   "source": [
    "data.info()"
   ]
  },
  {
   "cell_type": "code",
   "execution_count": 109,
   "metadata": {},
   "outputs": [
    {
     "data": {
      "image/png": "[encoded data removed]",
      "text/plain": [
       "<Figure size 432x288 with 1 Axes>"
      ]
     },
     "metadata": {},
     "output_type": "display_data"
    }
   ],
   "source": [
    "data.plot(y='mhra', kind='box')\n",
    "plt.xlabel('Maximum Heart Rate Achieved')\n",
    "plt.show()"
   ]
  },
  {
   "cell_type": "code",
   "execution_count": 93,
   "metadata": {},
   "outputs": [
    {
     "data": {
      "image/png": "[encoded data removed]",
      "text/plain": [
       "<Figure size 432x288 with 1 Axes>"
      ]
     },
     "metadata": {},
     "output_type": "display_data"
    }
   ],
   "source": [
    "data.plot(y='age', kind='hist', bins=15)\n",
    "plt.xlabel('Patient Age Distribution')\n",
    "plt.show()"
   ]
  },
  {
   "cell_type": "code",
   "execution_count": 94,
   "metadata": {},
   "outputs": [
    {
     "data": {
      "image/png": "[encoded data removed]",
      "text/plain": [
       "<Figure size 432x288 with 1 Axes>"
      ]
     },
     "metadata": {},
     "output_type": "display_data"
    }
   ],
   "source": [
    "data.plot(y='age', kind='hist', bins=15, cumulative=True)\n",
    "plt.xlabel('Patient Age Distribution')\n",
    "plt.show()"
   ]
  },
  {
   "cell_type": "code",
   "execution_count": 95,
   "metadata": {},
   "outputs": [
    {
     "data": {
      "image/png": "[encoded data removed]",
      "text/plain": [
       "<Figure size 432x288 with 1 Axes>"
      ]
     },
     "metadata": {},
     "output_type": "display_data"
    }
   ],
   "source": [
    "data.plot(x='age', y='rbp', kind='scatter')\n",
    "plt.xlabel('Patient Age')\n",
    "plt.ylabel('Resting Blood Pressure')\n",
    "plt.show()"
   ]
  },
  {
   "cell_type": "code",
   "execution_count": 128,
   "metadata": {},
   "outputs": [
    {
     "data": {
      "image/png": "[encoded data removed]",
      "text/plain": [
       "<Figure size 432x288 with 1 Axes>"
      ]
     },
     "metadata": {},
     "output_type": "display_data"
    }
   ],
   "source": [
    "data.rbp[data.eia==1].plot.box()\n",
    "plt.ylabel('Resting Blood Pressure')\n",
    "plt.show()"
   ]
  },
  {
   "cell_type": "code",
   "execution_count": null,
   "metadata": {},
   "outputs": [],
   "source": []
  },
  {
   "cell_type": "code",
   "execution_count": null,
   "metadata": {},
   "outputs": [],
   "source": []
  }
 ],
 "metadata": {
  "kernelspec": {
   "display_name": "Python 3",
   "language": "python",
   "name": "python3"
  },
  "language_info": {
   "codemirror_mode": {
    "name": "ipython",
    "version": 3
   },
   "file_extension": ".py",
   "mimetype": "text/x-python",
   "name": "python",
   "nbconvert_exporter": "python",
   "pygments_lexer": "ipython3",
   "version": "3.6.5"
  }
 },
 "nbformat": 4,
 "nbformat_minor": 2
}
