{
 "cells": [
  {
   "cell_type": "code",
   "execution_count": 92,
   "metadata": {},
   "outputs": [],
   "source": [
    "#Part1\n",
    "\n",
    "#Importing Pandas\n",
    "import pandas as pd "
   ]
  },
  {
   "cell_type": "code",
   "execution_count": 93,
   "metadata": {},
   "outputs": [],
   "source": [
    "#Importing JSON\n",
    "import json \n",
    "from pandas.io.json import json_normalize"
   ]
  },
  {
   "cell_type": "code",
   "execution_count": 94,
   "metadata": {},
   "outputs": [],
   "source": [
    "#Loading JSON file as string\n",
    "j_file = json.load((open('world_bank_projects.json')))"
   ]
  },
  {
   "cell_type": "code",
   "execution_count": 95,
   "metadata": {},
   "outputs": [],
   "source": [
    "#Load file as Pandas df\n",
    "df = pd.read_json('world_bank_projects.json')"
   ]
  },
  {
   "cell_type": "code",
   "execution_count": 96,
   "metadata": {},
   "outputs": [
    {
     "data": {
      "text/plain": [
       "Republic of Indonesia                       19\n",
       "People's Republic of China                  19\n",
       "Socialist Republic of Vietnam               17\n",
       "Republic of India                           16\n",
       "Republic of Yemen                           13\n",
       "Kingdom of Morocco                          12\n",
       "Nepal                                       12\n",
       "People's Republic of Bangladesh             12\n",
       "Africa                                      11\n",
       "Republic of Mozambique                      11\n",
       "Federative Republic of Brazil                9\n",
       "Burkina Faso                                 9\n",
       "Islamic Republic of Pakistan                 9\n",
       "Republic of Armenia                          8\n",
       "United Republic of Tanzania                  8\n",
       "Republic of Tajikistan                       8\n",
       "Hashemite Kingdom of Jordan                  7\n",
       "Lao People's Democratic Republic             7\n",
       "Federal Republic of Nigeria                  7\n",
       "Kyrgyz Republic                              7\n",
       "Democratic Republic of the Congo             6\n",
       "Republic of Peru                             6\n",
       "West Bank and Gaza                           6\n",
       "Islamic State of Afghanistan                 6\n",
       "Republic of Kenya                            6\n",
       "Republic of Nicaragua                        6\n",
       "Republic of Uzbekistan                       5\n",
       "Republic of Niger                            5\n",
       "Republic of Liberia                          5\n",
       "Republic of Haiti                            5\n",
       "                                            ..\n",
       "World                                        2\n",
       "South Asia                                   2\n",
       "Kingdom of Cambodia                          2\n",
       "Argentine Republic                           2\n",
       "Republic of Mauritius                        2\n",
       "Republic of Guatemala                        2\n",
       "Arab Republic of Egypt                       2\n",
       "Republic of Poland                           1\n",
       "Kingdom of Thailand                          1\n",
       "Republic of Kiribati                         1\n",
       "Antigua and Barbuda                          1\n",
       "Republic of Congo                            1\n",
       "Republic of Costa Rica                       1\n",
       "Republic of Zimbabwe                         1\n",
       "Republic of Chile                            1\n",
       "Europe and Central Asia                      1\n",
       "Republic of Serbia                           1\n",
       "Republic of Chad                             1\n",
       "Kingdom of Tonga                             1\n",
       "People's Republic of Angola                  1\n",
       "Romania                                      1\n",
       "Republic of Cape Verde                       1\n",
       "Democratic Socialist Republic of Sri Lan     1\n",
       "Republic of Namibia                          1\n",
       "Tuvalu                                       1\n",
       "Central African Republic                     1\n",
       "East Asia and Pacific                        1\n",
       "Republic of Belarus                          1\n",
       "Republic of Panama                           1\n",
       "Bosnia and Herzegovina                       1\n",
       "Name: countryname, Length: 118, dtype: int64"
      ]
     },
     "execution_count": 96,
     "metadata": {},
     "output_type": "execute_result"
    }
   ],
   "source": [
    "#Counting unique values\n",
    "pd.value_counts(df['countryname'])"
   ]
  },
  {
   "cell_type": "code",
   "execution_count": 97,
   "metadata": {},
   "outputs": [],
   "source": [
    "#top 10 countries: Indonesia, China, Vietnam, India, Yemen, Bangladesh, Nepal, Morroco, Africa?, Mozambique\n"
   ]
  },
  {
   "cell_type": "code",
   "execution_count": 98,
   "metadata": {},
   "outputs": [
    {
     "name": "stdout",
     "output_type": "stream",
     "text": [
      "     code                                          name\n",
      "0       8                             Human development\n",
      "1      11                                              \n",
      "2       1                           Economic management\n",
      "3       6         Social protection and risk management\n",
      "4       5                         Trade and integration\n",
      "5       2                      Public sector governance\n",
      "6      11  Environment and natural resources management\n",
      "7       6         Social protection and risk management\n",
      "8       7                   Social dev/gender/inclusion\n",
      "9       7                   Social dev/gender/inclusion\n",
      "10      5                         Trade and integration\n",
      "11      4      Financial and private sector development\n",
      "12      6         Social protection and risk management\n",
      "13      6                                              \n",
      "14      2                      Public sector governance\n",
      "15      4      Financial and private sector development\n",
      "16     11  Environment and natural resources management\n",
      "17      8                                              \n",
      "18     10                             Rural development\n",
      "19      7                                              \n",
      "20      2                      Public sector governance\n",
      "21      2                      Public sector governance\n",
      "22      2                      Public sector governance\n",
      "23     10                             Rural development\n",
      "24      2                                              \n",
      "25     10                             Rural development\n",
      "26      6         Social protection and risk management\n",
      "27      6         Social protection and risk management\n",
      "28     11  Environment and natural resources management\n",
      "29      4                                              \n",
      "...   ...                                           ...\n",
      "1469    8                             Human development\n",
      "1470    9                             Urban development\n",
      "1471    6         Social protection and risk management\n",
      "1472    6         Social protection and risk management\n",
      "1473    9                             Urban development\n",
      "1474    2                      Public sector governance\n",
      "1475    2                      Public sector governance\n",
      "1476   10                             Rural development\n",
      "1477   11                                              \n",
      "1478    8                             Human development\n",
      "1479    7                   Social dev/gender/inclusion\n",
      "1480   11  Environment and natural resources management\n",
      "1481    5                                              \n",
      "1482    6         Social protection and risk management\n",
      "1483    8                                              \n",
      "1484    4      Financial and private sector development\n",
      "1485    7                   Social dev/gender/inclusion\n",
      "1486    8                             Human development\n",
      "1487    5                         Trade and integration\n",
      "1488    2                      Public sector governance\n",
      "1489    8                             Human development\n",
      "1490   10                             Rural development\n",
      "1491    6                                              \n",
      "1492   10                             Rural development\n",
      "1493   10                             Rural development\n",
      "1494   10                             Rural development\n",
      "1495    9                             Urban development\n",
      "1496    8                             Human development\n",
      "1497    5                         Trade and integration\n",
      "1498    4      Financial and private sector development\n",
      "\n",
      "[1499 rows x 2 columns]\n"
     ]
    }
   ],
   "source": [
    "#Part 2\n",
    "\n",
    "#normalizing json file by theme category\n",
    "print((json_normalize(j_file, 'mjtheme_namecode')))"
   ]
  },
  {
   "cell_type": "code",
   "execution_count": 99,
   "metadata": {},
   "outputs": [],
   "source": [
    "new_file_j = json_normalize(j_file, 'mjtheme_namecode')\n"
   ]
  },
  {
   "cell_type": "code",
   "execution_count": 100,
   "metadata": {},
   "outputs": [],
   "source": [
    "new_file_jdf = pd.DataFrame(new_file_j['name'])"
   ]
  },
  {
   "cell_type": "code",
   "execution_count": 101,
   "metadata": {},
   "outputs": [
    {
     "name": "stdout",
     "output_type": "stream",
     "text": [
      "                                              name\n",
      "0                                Human development\n",
      "1                                                 \n",
      "2                              Economic management\n",
      "3            Social protection and risk management\n",
      "4                            Trade and integration\n",
      "5                         Public sector governance\n",
      "6     Environment and natural resources management\n",
      "7            Social protection and risk management\n",
      "8                      Social dev/gender/inclusion\n",
      "9                      Social dev/gender/inclusion\n",
      "10                           Trade and integration\n",
      "11        Financial and private sector development\n",
      "12           Social protection and risk management\n",
      "13                                                \n",
      "14                        Public sector governance\n",
      "15        Financial and private sector development\n",
      "16    Environment and natural resources management\n",
      "17                                                \n",
      "18                               Rural development\n",
      "19                                                \n",
      "20                        Public sector governance\n",
      "21                        Public sector governance\n",
      "22                        Public sector governance\n",
      "23                               Rural development\n",
      "24                                                \n",
      "25                               Rural development\n",
      "26           Social protection and risk management\n",
      "27           Social protection and risk management\n",
      "28    Environment and natural resources management\n",
      "29                                                \n",
      "...                                            ...\n",
      "1469                             Human development\n",
      "1470                             Urban development\n",
      "1471         Social protection and risk management\n",
      "1472         Social protection and risk management\n",
      "1473                             Urban development\n",
      "1474                      Public sector governance\n",
      "1475                      Public sector governance\n",
      "1476                             Rural development\n",
      "1477                                              \n",
      "1478                             Human development\n",
      "1479                   Social dev/gender/inclusion\n",
      "1480  Environment and natural resources management\n",
      "1481                                              \n",
      "1482         Social protection and risk management\n",
      "1483                                              \n",
      "1484      Financial and private sector development\n",
      "1485                   Social dev/gender/inclusion\n",
      "1486                             Human development\n",
      "1487                         Trade and integration\n",
      "1488                      Public sector governance\n",
      "1489                             Human development\n",
      "1490                             Rural development\n",
      "1491                                              \n",
      "1492                             Rural development\n",
      "1493                             Rural development\n",
      "1494                             Rural development\n",
      "1495                             Urban development\n",
      "1496                             Human development\n",
      "1497                         Trade and integration\n",
      "1498      Financial and private sector development\n",
      "\n",
      "[1499 rows x 1 columns]\n"
     ]
    }
   ],
   "source": [
    "print(new_file_jdf)"
   ]
  },
  {
   "cell_type": "code",
   "execution_count": 102,
   "metadata": {},
   "outputs": [
    {
     "data": {
      "text/plain": [
       "Environment and natural resources management    223\n",
       "Rural development                               202\n",
       "Human development                               197\n",
       "Public sector governance                        184\n",
       "Social protection and risk management           158\n",
       "Financial and private sector development        130\n",
       "                                                122\n",
       "Social dev/gender/inclusion                     119\n",
       "Trade and integration                            72\n",
       "Urban development                                47\n",
       "Economic management                              33\n",
       "Rule of law                                      12\n",
       "Name: name, dtype: int64"
      ]
     },
     "execution_count": 102,
     "metadata": {},
     "output_type": "execute_result"
    }
   ],
   "source": [
    "#Counting the number of unique values in the column\n",
    "pd.value_counts(new_file_jdf['name'])"
   ]
  },
  {
   "cell_type": "code",
   "execution_count": 103,
   "metadata": {},
   "outputs": [],
   "source": [
    "#Top 10 Major Project Themes include: Environment and Natural Resources Management, Rural Development, Human Development,\n",
    "#Public Sector Governance, Social Protection and Risk Management, Financial and Private Sector Development, Social dev/gender/\n",
    "#inclusion, Trade and Integration, Urban Development and Economic Management. "
   ]
  },
  {
   "cell_type": "code",
   "execution_count": 112,
   "metadata": {},
   "outputs": [],
   "source": [
    "#Creating new dataframe filling in missing values\n",
    "new_file_jdf['name'].replace(to_replace='', value='Missing Theme', inplace=True)"
   ]
  },
  {
   "cell_type": "code",
   "execution_count": 113,
   "metadata": {},
   "outputs": [
    {
     "name": "stdout",
     "output_type": "stream",
     "text": [
      "0                                  Human development\n",
      "1                                      Missing Theme\n",
      "2                                Economic management\n",
      "3              Social protection and risk management\n",
      "4                              Trade and integration\n",
      "5                           Public sector governance\n",
      "6       Environment and natural resources management\n",
      "7              Social protection and risk management\n",
      "8                        Social dev/gender/inclusion\n",
      "9                        Social dev/gender/inclusion\n",
      "10                             Trade and integration\n",
      "11          Financial and private sector development\n",
      "12             Social protection and risk management\n",
      "13                                     Missing Theme\n",
      "14                          Public sector governance\n",
      "15          Financial and private sector development\n",
      "16      Environment and natural resources management\n",
      "17                                     Missing Theme\n",
      "18                                 Rural development\n",
      "19                                     Missing Theme\n",
      "20                          Public sector governance\n",
      "21                          Public sector governance\n",
      "22                          Public sector governance\n",
      "23                                 Rural development\n",
      "24                                     Missing Theme\n",
      "25                                 Rural development\n",
      "26             Social protection and risk management\n",
      "27             Social protection and risk management\n",
      "28      Environment and natural resources management\n",
      "29                                     Missing Theme\n",
      "                            ...                     \n",
      "1469                               Human development\n",
      "1470                               Urban development\n",
      "1471           Social protection and risk management\n",
      "1472           Social protection and risk management\n",
      "1473                               Urban development\n",
      "1474                        Public sector governance\n",
      "1475                        Public sector governance\n",
      "1476                               Rural development\n",
      "1477                                   Missing Theme\n",
      "1478                               Human development\n",
      "1479                     Social dev/gender/inclusion\n",
      "1480    Environment and natural resources management\n",
      "1481                                   Missing Theme\n",
      "1482           Social protection and risk management\n",
      "1483                                   Missing Theme\n",
      "1484        Financial and private sector development\n",
      "1485                     Social dev/gender/inclusion\n",
      "1486                               Human development\n",
      "1487                           Trade and integration\n",
      "1488                        Public sector governance\n",
      "1489                               Human development\n",
      "1490                               Rural development\n",
      "1491                                   Missing Theme\n",
      "1492                               Rural development\n",
      "1493                               Rural development\n",
      "1494                               Rural development\n",
      "1495                               Urban development\n",
      "1496                               Human development\n",
      "1497                           Trade and integration\n",
      "1498        Financial and private sector development\n",
      "Name: name, Length: 1499, dtype: object\n"
     ]
    }
   ],
   "source": [
    "print (new_file_jdf['name'])"
   ]
  },
  {
   "cell_type": "code",
   "execution_count": null,
   "metadata": {},
   "outputs": [],
   "source": []
  },
  {
   "cell_type": "code",
   "execution_count": null,
   "metadata": {},
   "outputs": [],
   "source": []
  },
  {
   "cell_type": "code",
   "execution_count": null,
   "metadata": {},
   "outputs": [],
   "source": []
  }
 ],
 "metadata": {
  "kernelspec": {
   "display_name": "Python 3",
   "language": "python",
   "name": "python3"
  },
  "language_info": {
   "codemirror_mode": {
    "name": "ipython",
    "version": 3
   },
   "file_extension": ".py",
   "mimetype": "text/x-python",
   "name": "python",
   "nbconvert_exporter": "python",
   "pygments_lexer": "ipython3",
   "version": "3.6.5"
  }
 },
 "nbformat": 4,
 "nbformat_minor": 2
}
